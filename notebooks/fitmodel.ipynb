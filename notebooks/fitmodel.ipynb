{
 "cells": [
  {
   "cell_type": "markdown",
   "metadata": {},
   "source": [
    "## Cleaning Data"
   ]
  },
  {
   "cell_type": "code",
   "execution_count": 1,
   "metadata": {},
   "outputs": [],
   "source": [
    "## importing the dataframe\n",
    "import pandas as pd\n",
    "df = pd.read_csv('https://raw.githubusercontent.com/scottwmwork/datasets/master/tmdb_5000_movies.csv')\n",
    "\n",
    "#Create release_year feature out of release date column\n",
    "df['release_date'] = pd.to_datetime(df['release_date'],infer_datetime_format = True)\n",
    "df['release_year'] = df['release_date'].dt.year\n",
    "df = df.drop(columns = 'release_date')"
   ]
  },
  {
   "cell_type": "markdown",
   "metadata": {},
   "source": [
    "## Wrangle Data"
   ]
  },
  {
   "cell_type": "code",
   "execution_count": 2,
   "metadata": {},
   "outputs": [],
   "source": [
    "### Wrangle Data function ###\n",
    "import ast\n",
    "import numpy as np\n",
    "\n",
    "def wrangle(X):\n",
    "  \n",
    "  X = X.copy()\n",
    "  X = X.reset_index()\n",
    "\n",
    "  #Make genres column usable\n",
    "  genre = []\n",
    "  \n",
    "  for x in X['genres']:\n",
    "    if x == '[]':\n",
    "      genre.append(np.nan)\n",
    "    else:\n",
    "      temp = ast.literal_eval(x) \n",
    "      genre.append(temp[0]['name']) #grabs first genre in list of dictionaries\n",
    "\n",
    "  \n",
    "  \n",
    "  #Engineer features:\n",
    "  \n",
    "  #original title is same as title?    \n",
    "  title_changed = []\n",
    "  for x in range(0,len(X['title'])):\n",
    "    if X['title'][x] == X['original_title'][x]:\n",
    "       title_changed.append(0)\n",
    "    else:\n",
    "       title_changed.append(1)\n",
    "  \n",
    "  #length of title\n",
    "  length_of_title = []\n",
    "  for x in X['title']:\n",
    "    length_of_title.append(len(x))\n",
    "  \n",
    "  #Add features to dataframe\n",
    "  X['title_changed'] = title_changed\n",
    "  X['length_of_title'] = length_of_title\n",
    "  X['genre_first_listed'] = genre  \n",
    "\n",
    "\n",
    "  #Features to not include:\n",
    "  X = X.drop(columns = ['genres','homepage','keywords','overview','production_companies','production_countries',\n",
    "                        'spoken_languages','tagline','popularity','index','id','vote_average','vote_count','original_title','title'])\n",
    "  return X"
   ]
  },
  {
   "cell_type": "markdown",
   "metadata": {},
   "source": [
    "## Split Train/Test/Validate Sets"
   ]
  },
  {
   "cell_type": "code",
   "execution_count": null,
   "metadata": {},
   "outputs": [],
   "source": [
    "#Isolate the test set\n",
    "test = df[df['release_year'] == 2016]\n",
    "y_test = test['revenue']\n",
    "X_test = test.drop(columns = 'revenue')\n",
    "\n",
    "#Exclude test set from data\n",
    "dfn = df[df['release_year'] != 2016]"
   ]
  },
  {
   "cell_type": "code",
   "execution_count": null,
   "metadata": {},
   "outputs": [],
   "source": [
    "#Exclude test set from data\n",
    "dfn = df[df['release_year'] != 2016]"
   ]
  },
  {
   "cell_type": "code",
   "execution_count": null,
   "metadata": {},
   "outputs": [],
   "source": [
    "#Create train and validation data \n",
    "from sklearn.model_selection import train_test_split\n",
    "train, val = train_test_split(dfn, train_size = .80, test_size = 0.20, random_state = 42)\n",
    "\n",
    "y_train = train.revenue\n",
    "X_train = train.drop(columns = 'revenue')\n",
    "\n",
    "y_val = val.revenue\n",
    "X_val = val.drop(columns = 'revenue')"
   ]
  },
  {
   "cell_type": "code",
   "execution_count": 3,
   "metadata": {},
   "outputs": [],
   "source": [
    "#Wrangle data\n",
    "X_test = wrangle(X_test)\n",
    "X_val = wrangle(X_val)\n",
    "X_train = wrangle(X_train)"
   ]
  },
  {
   "cell_type": "markdown",
   "metadata": {},
   "source": [
    "## Pipeline and Model"
   ]
  },
  {
   "cell_type": "code",
   "execution_count": 4,
   "metadata": {},
   "outputs": [
    {
     "data": {
      "text/plain": [
       "Pipeline(memory=None,\n",
       "         steps=[('onehotencoder',\n",
       "                 OneHotEncoder(cols=['original_language', 'status',\n",
       "                                     'genre_first_listed'],\n",
       "                               drop_invariant=False, handle_missing='value',\n",
       "                               handle_unknown='value', return_df=True,\n",
       "                               use_cat_names=True, verbose=0)),\n",
       "                ('simpleimputer',\n",
       "                 SimpleImputer(add_indicator=False, copy=True, fill_value=None,\n",
       "                               missing_values=nan, strategy='mean',\n",
       "                               verbose=0)),\n",
       "                ('linearregression',\n",
       "                 LinearRegression(copy_X=True, fit_intercept=True, n_jobs=None,\n",
       "                                  normalize=False))],\n",
       "         verbose=False)"
      ]
     },
     "execution_count": 4,
     "metadata": {},
     "output_type": "execute_result"
    }
   ],
   "source": [
    "from sklearn.pipeline import make_pipeline\n",
    "from sklearn.impute import SimpleImputer \n",
    "from sklearn.linear_model import LinearRegression\n",
    "import category_encoders as ce\n",
    "\n",
    "#Create pipelines for different regressors\n",
    "linear_regression = make_pipeline(\n",
    "  ce.OneHotEncoder(use_cat_names = True),\n",
    "  SimpleImputer(),  \n",
    "  LinearRegression()\n",
    ")\n",
    "\n",
    "#Fit Models!\n",
    "linear_regression.fit(X_train,y_train)"
   ]
  },
  {
   "cell_type": "markdown",
   "metadata": {},
   "source": [
    "## Pickle model"
   ]
  },
  {
   "cell_type": "code",
   "execution_count": 5,
   "metadata": {},
   "outputs": [
    {
     "data": {
      "text/plain": [
       "['linear_regression.joblib']"
      ]
     },
     "execution_count": 5,
     "metadata": {},
     "output_type": "execute_result"
    }
   ],
   "source": [
    "from joblib import dump\n",
    "dump(linear_regression, 'linear_regression.joblib')"
   ]
  },
  {
   "cell_type": "code",
   "execution_count": 6,
   "metadata": {},
   "outputs": [],
   "source": [
    "#model is saved into a file within the folder 'assets' for use in the plotly dash app!"
   ]
  },
  {
   "cell_type": "markdown",
   "metadata": {},
   "source": [
    "## Accuracy Score"
   ]
  },
  {
   "cell_type": "code",
   "execution_count": 7,
   "metadata": {},
   "outputs": [
    {
     "data": {
      "text/plain": [
       "0.6532395810416742"
      ]
     },
     "execution_count": 7,
     "metadata": {},
     "output_type": "execute_result"
    }
   ],
   "source": [
    "linear_regression.score(X_test,y_test)"
   ]
  },
  {
   "cell_type": "code",
   "execution_count": 8,
   "metadata": {},
   "outputs": [
    {
     "data": {
      "text/plain": [
       "0.5347328840360128"
      ]
     },
     "execution_count": 8,
     "metadata": {},
     "output_type": "execute_result"
    }
   ],
   "source": [
    "linear_regression.score(X_val,y_val)"
   ]
  }
 ],
 "metadata": {
  "kernelspec": {
   "display_name": "Python 3",
   "language": "python",
   "name": "python3"
  },
  "language_info": {
   "codemirror_mode": {
    "name": "ipython",
    "version": 3
   },
   "file_extension": ".py",
   "mimetype": "text/x-python",
   "name": "python",
   "nbconvert_exporter": "python",
   "pygments_lexer": "ipython3",
   "version": "3.7.4"
  }
 },
 "nbformat": 4,
 "nbformat_minor": 2
}
